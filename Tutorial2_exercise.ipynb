{
  "nbformat": 4,
  "nbformat_minor": 0,
  "metadata": {
    "colab": {
      "name": "Tutorial2_exercise.ipynb",
      "provenance": []
    },
    "kernelspec": {
      "name": "python3",
      "display_name": "Python 3"
    },
    "language_info": {
      "name": "python"
    }
  },
  "cells": [
    {
      "cell_type": "markdown",
      "metadata": {
        "id": "wWI5sFQswsRS"
      },
      "source": [
        "#ex1"
      ]
    },
    {
      "cell_type": "code",
      "metadata": {
        "id": "LHbXglJdwmi_"
      },
      "source": [
        "import nltk\n",
        "nltk.download('all')\n",
        "from nltk.corpus import gutenberg\n",
        "gutenberg.fileids()\n",
        "\n",
        "# import text of bible\n",
        "bible_text = gutenberg.words('bible-kjv.txt')\n",
        "nltk.bigrams(bible_text)\n",
        "\n",
        "\n",
        "# generator\n",
        "def generate_model(cfdist, word, num=15):\n",
        "    for i in range(num):\n",
        "        print(word,end=\" \")\n",
        "        word = cfdist[word].max()\n",
        "        \n",
        "bible_text = gutenberg.words('bible-kjv.txt')\n",
        "bigrams = nltk.bigrams(bible_text)\n",
        "cfd = nltk.ConditionalFreqDist(bigrams)"
      ],
      "execution_count": null,
      "outputs": []
    },
    {
      "cell_type": "code",
      "metadata": {
        "colab": {
          "base_uri": "https://localhost:8080/"
        },
        "id": "Kril2oF3wp-v",
        "outputId": "8fedc842-e72e-4f82-91f4-50d92bfc52ef"
      },
      "source": [
        "generate_model(cfd, 'god', num=5)"
      ],
      "execution_count": 10,
      "outputs": [
        {
          "output_type": "stream",
          "text": [
            "god , and the LORD "
          ],
          "name": "stdout"
        }
      ]
    },
    {
      "cell_type": "code",
      "metadata": {
        "colab": {
          "base_uri": "https://localhost:8080/"
        },
        "id": "adhOpptIwp8C",
        "outputId": "5c8d40ea-6772-489b-b634-02e8fea07bd9"
      },
      "source": [
        "generate_model(cfd, 'god', num=10)"
      ],
      "execution_count": 11,
      "outputs": [
        {
          "output_type": "stream",
          "text": [
            "god , and the LORD , and the LORD , "
          ],
          "name": "stdout"
        }
      ]
    },
    {
      "cell_type": "code",
      "metadata": {
        "colab": {
          "base_uri": "https://localhost:8080/"
        },
        "id": "E4L0tF5Rwp5H",
        "outputId": "c1d3c45e-3416-4aab-d83a-77190eef4ffc"
      },
      "source": [
        "generate_model(cfd, 'god', num=15)"
      ],
      "execution_count": 12,
      "outputs": [
        {
          "output_type": "stream",
          "text": [
            "god , and the LORD , and the LORD , and the LORD , and "
          ],
          "name": "stdout"
        }
      ]
    },
    {
      "cell_type": "code",
      "metadata": {
        "colab": {
          "base_uri": "https://localhost:8080/"
        },
        "id": "0dcY1dB7wp2P",
        "outputId": "ffcfb877-cfc3-4e28-9ce2-d402c61a3b53"
      },
      "source": [
        "generate_model(cfd, 'bird', num=15)"
      ],
      "execution_count": 13,
      "outputs": [
        {
          "output_type": "stream",
          "text": [
            "bird , and the LORD , and the LORD , and the LORD , and "
          ],
          "name": "stdout"
        }
      ]
    },
    {
      "cell_type": "markdown",
      "metadata": {
        "id": "8l3_7ElOxYUQ"
      },
      "source": [
        "#ex2"
      ]
    },
    {
      "cell_type": "code",
      "metadata": {
        "id": "X6LtzfPsxX3J"
      },
      "source": [
        "from nltk.corpus import wordnet as wn\n",
        "from nltk.corpus import brown\n",
        "\n",
        "romance_words = set(brown.words(categories='romance'))\n",
        "religion_words = set(brown.words(categories='religion'))"
      ],
      "execution_count": 14,
      "outputs": []
    },
    {
      "cell_type": "code",
      "metadata": {
        "colab": {
          "base_uri": "https://localhost:8080/"
        },
        "id": "0wHgZLBowpzn",
        "outputId": "4e16e5b8-d935-4371-f01a-b49dc85ebfd1"
      },
      "source": [
        "#  part_meronyms\n",
        "def noun_part_meronym_count(words):\n",
        "    meronym_list = []\n",
        "    noun_counter = 0\n",
        "    for word in words:\n",
        "        if wn.synsets(word, wn.NOUN) != []:\n",
        "            noun_counter += 1\n",
        "        for synset in wn.synsets(word, wn.NOUN):\n",
        "            part_meronym_list = synset.part_meronyms()\n",
        "            if part_meronym_list != []:\n",
        "                for part_meronym in part_meronym_list:\n",
        "                    for part_meronym_lemma in part_meronym.lemma_names():\n",
        "                        meronym_list.append(part_meronym_lemma)\n",
        "    meronym_set = set(meronym_list)\n",
        "    return((len(meronym_set),len(meronym_list)/noun_counter))\n",
        "\n",
        "romance_result = noun_part_meronym_count(romance_words)\n",
        "print('Total number of part meronym from Romance: ',romance_result[0])\n",
        "print('Number of part meronym per noun from Romance: ',romance_result[1])\n",
        "\n",
        "religion_result = noun_part_meronym_count(religion_words)\n",
        "print('Total number of part meronym from Religion: ',religion_result[0])\n",
        "print('Number of part meronym per noun from Religion: ',religion_result[1])"
      ],
      "execution_count": 15,
      "outputs": [
        {
          "output_type": "stream",
          "text": [
            "Total number of part meronym from Romance:  4674\n",
            "Number of part meronym per noun from Romance:  2.0031525851197984\n",
            "Total number of part meronym from Religion:  3515\n",
            "Number of part meronym per noun from Religion:  1.6870474658085277\n"
          ],
          "name": "stdout"
        }
      ]
    },
    {
      "cell_type": "code",
      "metadata": {
        "colab": {
          "base_uri": "https://localhost:8080/"
        },
        "id": "rsDg_Rmhwpw5",
        "outputId": "3d432e6a-05e5-4ed5-e6d0-f83e9c876751"
      },
      "source": [
        "#  substance_meronyms\n",
        "def noun_substance_meronym_count(words):\n",
        "    meronym_list = []\n",
        "    noun_counter = 0\n",
        "    for word in words:\n",
        "        if wn.synsets(word, wn.NOUN) != []:\n",
        "            noun_counter += 1\n",
        "        for synset in wn.synsets(word, wn.NOUN):\n",
        "            substance_meronym_list = synset.substance_meronyms()\n",
        "            if substance_meronym_list != []:\n",
        "                for substance_meronym in substance_meronym_list:\n",
        "                    for substance_meronym_lemma in substance_meronym.lemma_names():\n",
        "                        meronym_list.append(substance_meronym_lemma)\n",
        "    meronym_set = set(meronym_list)\n",
        "    return((len(meronym_set),len(meronym_list)/noun_counter))\n",
        "\n",
        "romance_result = noun_substance_meronym_count(romance_words)\n",
        "print('Total number of substance meronym from Romance: ',romance_result[0])\n",
        "print('Number of substance meronym per noun from Romance: ',romance_result[1])\n",
        "\n",
        "religion_result = noun_substance_meronym_count(religion_words)\n",
        "print('Total number of substance meronym from Religion: ',religion_result[0])\n",
        "print('Number of substance meronym per noun from Religion: ',religion_result[1])"
      ],
      "execution_count": 16,
      "outputs": [
        {
          "output_type": "stream",
          "text": [
            "Total number of substance meronym from Romance:  166\n",
            "Number of substance meronym per noun from Romance:  0.07503152585119799\n",
            "Total number of substance meronym from Religion:  90\n",
            "Number of substance meronym per noun from Religion:  0.032448377581120944\n"
          ],
          "name": "stdout"
        }
      ]
    },
    {
      "cell_type": "markdown",
      "metadata": {
        "id": "TEog9Fc8yGEB"
      },
      "source": [
        "#ex3"
      ]
    },
    {
      "cell_type": "code",
      "metadata": {
        "id": "EH1yGsbfwpuB"
      },
      "source": [
        "from nltk.corpus import wordnet as wn\n",
        "from nltk.corpus import brown\n",
        "import numpy as np\n",
        "\n",
        "romance_words = brown.words(categories='romance')\n",
        "religion_words = brown.words(categories='religion')\n",
        "len(wn.synsets('dog', 'n'))\n",
        "\n",
        "def polysemy_calculate(words):\n",
        "    word_polysemy_list = []\n",
        "    for word in words:\n",
        "        word_polysemy_list.append(len(wn.synsets(word,'n')))\n",
        "    return(np.mean(word_polysemy_list))  "
      ],
      "execution_count": 18,
      "outputs": []
    },
    {
      "cell_type": "code",
      "metadata": {
        "colab": {
          "base_uri": "https://localhost:8080/"
        },
        "id": "onDTmqHOwpof",
        "outputId": "59234192-d63f-4d5d-e9a2-1bb94d0074b8"
      },
      "source": [
        "print('average polysemy of romance noun:',polysemy_calculate(romance_words))"
      ],
      "execution_count": 19,
      "outputs": [
        {
          "output_type": "stream",
          "text": [
            "average polysemy of romance noun: 1.5066264888178\n"
          ],
          "name": "stdout"
        }
      ]
    },
    {
      "cell_type": "code",
      "metadata": {
        "colab": {
          "base_uri": "https://localhost:8080/"
        },
        "id": "uYueTuF7wpl4",
        "outputId": "e66f2419-793f-4f86-8828-0529c26130d1"
      },
      "source": [
        "print('average polysemy of religion noun:',polysemy_calculate(religion_words))"
      ],
      "execution_count": 20,
      "outputs": [
        {
          "output_type": "stream",
          "text": [
            "average polysemy of religion noun: 1.6751186578339552\n"
          ],
          "name": "stdout"
        }
      ]
    },
    {
      "cell_type": "markdown",
      "metadata": {
        "id": "8aOWJLq4ymow"
      },
      "source": [
        "#ex4"
      ]
    },
    {
      "cell_type": "code",
      "metadata": {
        "id": "GYSKJY1zwpjA"
      },
      "source": [
        "import pandas as pd\n",
        "from nltk.corpus import wordnet as wn\n",
        "from nltk.corpus import genesis\n",
        "genesis_ic = wn.ic(genesis, False, 0.0)\n",
        "simlex = pd.read_csv('SimLex-999.txt',sep='\\t')\n",
        "simlex999 = simlex[['word1','word2','POS']].copy()\n",
        "simlex999['simlex_score'] = simlex['SimLex999']\n",
        "for score_type in ['path_score','wup_score','lch_score','jcn_score','res_score','lin_score']:\n",
        "    simlex999.insert(len(simlex999.keys()),score_type,'')\n",
        "\n",
        "simlex999 = simlex999.drop(index=(simlex999.loc[(simlex999['POS']=='A')].index))\n",
        "simlex999.index = [i for i in range(len(simlex999))]"
      ],
      "execution_count": 21,
      "outputs": []
    },
    {
      "cell_type": "code",
      "metadata": {
        "id": "YTgGdq_GwpgZ"
      },
      "source": [
        "word1_list = simlex999['word1']\n",
        "word2_list = simlex999['word2']\n",
        "POS_list = simlex999['POS']\n",
        "\n",
        "for i in range(len(simlex999)):\n",
        "    #i=11\n",
        "    #genesis_ic = wn.ic(genesis, False, 0.0)\n",
        "    word1_symset = wn.synset(simlex999['word1'][i] + '.' + POS_list[i].lower() + '.01')\n",
        "    word2_symset = wn.synset(simlex999['word2'][i] + '.' + POS_list[i].lower() + '.01')\n",
        "\n",
        "    simlex999['path_score'][i] = word1_symset.path_similarity(word2_symset)\n",
        "    simlex999['wup_score'][i] = word1_symset.wup_similarity(word2_symset)\n",
        "    simlex999['lch_score'][i] = wn.lch_similarity(word1_symset, word2_symset)\n",
        "    simlex999['jcn_score'][i] = wn.jcn_similarity(word1_symset, word2_symset, ic=genesis_ic)\n",
        "    simlex999['res_score'][i] = wn.res_similarity(word1_symset, word2_symset, ic=genesis_ic)\n",
        "    simlex999['lin_score'][i] = wn.lin_similarity(word1_symset, word2_symset, ic=genesis_ic)"
      ],
      "execution_count": null,
      "outputs": []
    },
    {
      "cell_type": "code",
      "metadata": {
        "colab": {
          "base_uri": "https://localhost:8080/",
          "height": 402
        },
        "id": "XqFG7xJJzHKR",
        "outputId": "47356df8-adf6-43a6-996b-c9dda62aed00"
      },
      "source": [
        "simlex999"
      ],
      "execution_count": 23,
      "outputs": [
        {
          "output_type": "execute_result",
          "data": {
            "text/html": [
              "<div>\n",
              "<style scoped>\n",
              "    .dataframe tbody tr th:only-of-type {\n",
              "        vertical-align: middle;\n",
              "    }\n",
              "\n",
              "    .dataframe tbody tr th {\n",
              "        vertical-align: top;\n",
              "    }\n",
              "\n",
              "    .dataframe thead th {\n",
              "        text-align: right;\n",
              "    }\n",
              "</style>\n",
              "<table border=\"1\" class=\"dataframe\">\n",
              "  <thead>\n",
              "    <tr style=\"text-align: right;\">\n",
              "      <th></th>\n",
              "      <th>word1</th>\n",
              "      <th>word2</th>\n",
              "      <th>POS</th>\n",
              "      <th>simlex_score</th>\n",
              "      <th>path_score</th>\n",
              "      <th>wup_score</th>\n",
              "      <th>lch_score</th>\n",
              "      <th>jcn_score</th>\n",
              "      <th>res_score</th>\n",
              "      <th>lin_score</th>\n",
              "    </tr>\n",
              "  </thead>\n",
              "  <tbody>\n",
              "    <tr>\n",
              "      <th>0</th>\n",
              "      <td>wife</td>\n",
              "      <td>husband</td>\n",
              "      <td>N</td>\n",
              "      <td>2.30</td>\n",
              "      <td>0.333333</td>\n",
              "      <td>0.6</td>\n",
              "      <td>2.53897</td>\n",
              "      <td>0.235559</td>\n",
              "      <td>4.86268</td>\n",
              "      <td>0.696131</td>\n",
              "    </tr>\n",
              "    <tr>\n",
              "      <th>1</th>\n",
              "      <td>book</td>\n",
              "      <td>text</td>\n",
              "      <td>N</td>\n",
              "      <td>6.35</td>\n",
              "      <td>0.0625</td>\n",
              "      <td>0.117647</td>\n",
              "      <td>0.864997</td>\n",
              "      <td>0.0572698</td>\n",
              "      <td>-0.0830686</td>\n",
              "      <td>-0.00960604</td>\n",
              "    </tr>\n",
              "    <tr>\n",
              "      <th>2</th>\n",
              "      <td>groom</td>\n",
              "      <td>bride</td>\n",
              "      <td>N</td>\n",
              "      <td>3.17</td>\n",
              "      <td>0.111111</td>\n",
              "      <td>0.545455</td>\n",
              "      <td>1.44036</td>\n",
              "      <td>1e-300</td>\n",
              "      <td>1.51089</td>\n",
              "      <td>3.02179e-300</td>\n",
              "    </tr>\n",
              "    <tr>\n",
              "      <th>3</th>\n",
              "      <td>night</td>\n",
              "      <td>day</td>\n",
              "      <td>N</td>\n",
              "      <td>1.88</td>\n",
              "      <td>0.166667</td>\n",
              "      <td>0.545455</td>\n",
              "      <td>1.84583</td>\n",
              "      <td>0.0780871</td>\n",
              "      <td>1.98631</td>\n",
              "      <td>0.236764</td>\n",
              "    </tr>\n",
              "    <tr>\n",
              "      <th>4</th>\n",
              "      <td>south</td>\n",
              "      <td>north</td>\n",
              "      <td>N</td>\n",
              "      <td>2.20</td>\n",
              "      <td>0.333333</td>\n",
              "      <td>0.857143</td>\n",
              "      <td>2.53897</td>\n",
              "      <td>0.0844929</td>\n",
              "      <td>3.85964</td>\n",
              "      <td>0.394755</td>\n",
              "    </tr>\n",
              "    <tr>\n",
              "      <th>...</th>\n",
              "      <td>...</td>\n",
              "      <td>...</td>\n",
              "      <td>...</td>\n",
              "      <td>...</td>\n",
              "      <td>...</td>\n",
              "      <td>...</td>\n",
              "      <td>...</td>\n",
              "      <td>...</td>\n",
              "      <td>...</td>\n",
              "      <td>...</td>\n",
              "    </tr>\n",
              "    <tr>\n",
              "      <th>883</th>\n",
              "      <td>join</td>\n",
              "      <td>acquire</td>\n",
              "      <td>V</td>\n",
              "      <td>2.85</td>\n",
              "      <td>0.333333</td>\n",
              "      <td>0.5</td>\n",
              "      <td>2.15948</td>\n",
              "      <td>0.0921704</td>\n",
              "      <td>0</td>\n",
              "      <td>0</td>\n",
              "    </tr>\n",
              "    <tr>\n",
              "      <th>884</th>\n",
              "      <td>send</td>\n",
              "      <td>attend</td>\n",
              "      <td>V</td>\n",
              "      <td>1.67</td>\n",
              "      <td>0.2</td>\n",
              "      <td>0.333333</td>\n",
              "      <td>1.64866</td>\n",
              "      <td>0.0670017</td>\n",
              "      <td>0</td>\n",
              "      <td>0</td>\n",
              "    </tr>\n",
              "    <tr>\n",
              "      <th>885</th>\n",
              "      <td>gather</td>\n",
              "      <td>attend</td>\n",
              "      <td>V</td>\n",
              "      <td>4.80</td>\n",
              "      <td>0.25</td>\n",
              "      <td>0.4</td>\n",
              "      <td>1.8718</td>\n",
              "      <td>0.0610947</td>\n",
              "      <td>0</td>\n",
              "      <td>0</td>\n",
              "    </tr>\n",
              "    <tr>\n",
              "      <th>886</th>\n",
              "      <td>absorb</td>\n",
              "      <td>withdraw</td>\n",
              "      <td>V</td>\n",
              "      <td>2.97</td>\n",
              "      <td>0.142857</td>\n",
              "      <td>0.25</td>\n",
              "      <td>1.31219</td>\n",
              "      <td>1e-300</td>\n",
              "      <td>0</td>\n",
              "      <td>0</td>\n",
              "    </tr>\n",
              "    <tr>\n",
              "      <th>887</th>\n",
              "      <td>attend</td>\n",
              "      <td>arrive</td>\n",
              "      <td>V</td>\n",
              "      <td>6.08</td>\n",
              "      <td>0.25</td>\n",
              "      <td>0.4</td>\n",
              "      <td>1.8718</td>\n",
              "      <td>0.0757107</td>\n",
              "      <td>0</td>\n",
              "      <td>0</td>\n",
              "    </tr>\n",
              "  </tbody>\n",
              "</table>\n",
              "<p>888 rows × 10 columns</p>\n",
              "</div>"
            ],
            "text/plain": [
              "      word1     word2 POS  ...  jcn_score  res_score     lin_score\n",
              "0      wife   husband   N  ...   0.235559    4.86268      0.696131\n",
              "1      book      text   N  ...  0.0572698 -0.0830686   -0.00960604\n",
              "2     groom     bride   N  ...     1e-300    1.51089  3.02179e-300\n",
              "3     night       day   N  ...  0.0780871    1.98631      0.236764\n",
              "4     south     north   N  ...  0.0844929    3.85964      0.394755\n",
              "..      ...       ...  ..  ...        ...        ...           ...\n",
              "883    join   acquire   V  ...  0.0921704          0             0\n",
              "884    send    attend   V  ...  0.0670017          0             0\n",
              "885  gather    attend   V  ...  0.0610947          0             0\n",
              "886  absorb  withdraw   V  ...     1e-300          0             0\n",
              "887  attend    arrive   V  ...  0.0757107          0             0\n",
              "\n",
              "[888 rows x 10 columns]"
            ]
          },
          "metadata": {
            "tags": []
          },
          "execution_count": 23
        }
      ]
    },
    {
      "cell_type": "code",
      "metadata": {
        "colab": {
          "base_uri": "https://localhost:8080/"
        },
        "id": "Omg7d-7JzGaI",
        "outputId": "45f39336-ef21-4026-dabb-a5e49196ed06"
      },
      "source": [
        "print('corr_simlex_path:', np.corrcoef(list(simlex999['simlex_score']), list(simlex999['path_score']))[0,1])\n",
        "print('corr_simlex_wup:', np.corrcoef(list(simlex999['simlex_score']), list(simlex999['wup_score']))[0,1])\n",
        "print('corr_simlex_lch:', np.corrcoef(list(simlex999['simlex_score']), list(simlex999['lch_score']))[0,1])\n",
        "print('corr_simlex_jcn:', np.corrcoef(list(simlex999['simlex_score']), list(simlex999['jcn_score']))[0,1])\n",
        "print('corr_simlex_res', np.corrcoef(list(simlex999['simlex_score']), list(simlex999['res_score']))[0,1])\n",
        "print('corr_simlex_lin:', np.corrcoef(list(simlex999['simlex_score']), list(simlex999['lin_score']))[0,1])"
      ],
      "execution_count": 25,
      "outputs": [
        {
          "output_type": "stream",
          "text": [
            "corr_simlex_path: 0.43888786796125756\n",
            "corr_simlex_wup: 0.3505600823618934\n",
            "corr_simlex_lch: 0.43394218646174965\n",
            "corr_simlex_jcn: 0.0\n",
            "corr_simlex_res 0.0\n",
            "corr_simlex_lin: 0.2831489470556222\n"
          ],
          "name": "stdout"
        },
        {
          "output_type": "stream",
          "text": [
            "/usr/local/lib/python3.7/dist-packages/numpy/lib/function_base.py:2559: RuntimeWarning: invalid value encountered in true_divide\n",
            "  c /= stddev[:, None]\n"
          ],
          "name": "stderr"
        }
      ]
    }
  ]
}